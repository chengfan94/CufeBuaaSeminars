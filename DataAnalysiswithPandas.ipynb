{
  "nbformat": 4,
  "nbformat_minor": 0,
  "metadata": {
    "colab": {
      "name": "Untitled1.ipynb",
      "version": "0.3.2",
      "provenance": [],
      "collapsed_sections": [],
      "include_colab_link": true
    },
    "kernelspec": {
      "name": "python3",
      "display_name": "Python 3"
    }
  },
  "cells": [
    {
      "cell_type": "markdown",
      "metadata": {
        "id": "view-in-github",
        "colab_type": "text"
      },
      "source": [
        "<a href=\"https://colab.research.google.com/github/ffancheng/CufeBuaaSeminars/blob/master/DataAnalysiswithPandas.ipynb\" target=\"_parent\"><img src=\"https://colab.research.google.com/assets/colab-badge.svg\" alt=\"Open In Colab\"/></a>"
      ]
    },
    {
      "cell_type": "markdown",
      "metadata": {
        "id": "S1G6Oe2lVZmP",
        "colab_type": "text"
      },
      "source": [
        "Data Analysis with Python"
      ]
    },
    {
      "cell_type": "code",
      "metadata": {
        "id": "BKZALD45Uxqi",
        "colab_type": "code",
        "colab": {
          "base_uri": "https://localhost:8080/",
          "height": 34
        },
        "outputId": "7aaf5095-dd41-46df-cfe2-46078d56c0a1"
      },
      "source": [
        "import urllib.request\n",
        "# You can also get this URL value by right-clicking the `surveys.csv` link above and selecting \"Copy Link Address\"\n",
        "url = 'https://monashdatafluency.github.io/python-workshop-base/modules/data/surveys.csv'\n",
        "# url = 'https://goo.gl/9ZxqBg'  # or a shortened version to save typing\n",
        "urllib.request.urlretrieve(url, 'surveys.csv')\n"
      ],
      "execution_count": 2,
      "outputs": [
        {
          "output_type": "execute_result",
          "data": {
            "text/plain": [
              "('surveys.csv', <http.client.HTTPMessage at 0x7f4de61d7f98>)"
            ]
          },
          "metadata": {
            "tags": []
          },
          "execution_count": 2
        }
      ]
    },
    {
      "cell_type": "code",
      "metadata": {
        "id": "jtegP2DOUytc",
        "colab_type": "code",
        "colab": {
          "base_uri": "https://localhost:8080/",
          "height": 207
        },
        "outputId": "d96bf12d-962a-4c12-8839-9f1535394080"
      },
      "source": [
        "!pip3 install pandas matplotlib\n"
      ],
      "execution_count": 3,
      "outputs": [
        {
          "output_type": "stream",
          "text": [
            "Requirement already satisfied: pandas in /usr/local/lib/python3.6/dist-packages (0.24.2)\n",
            "Requirement already satisfied: matplotlib in /usr/local/lib/python3.6/dist-packages (3.0.3)\n",
            "Requirement already satisfied: numpy>=1.12.0 in /usr/local/lib/python3.6/dist-packages (from pandas) (1.16.4)\n",
            "Requirement already satisfied: pytz>=2011k in /usr/local/lib/python3.6/dist-packages (from pandas) (2018.9)\n",
            "Requirement already satisfied: python-dateutil>=2.5.0 in /usr/local/lib/python3.6/dist-packages (from pandas) (2.5.3)\n",
            "Requirement already satisfied: pyparsing!=2.0.4,!=2.1.2,!=2.1.6,>=2.0.1 in /usr/local/lib/python3.6/dist-packages (from matplotlib) (2.4.0)\n",
            "Requirement already satisfied: cycler>=0.10 in /usr/local/lib/python3.6/dist-packages (from matplotlib) (0.10.0)\n",
            "Requirement already satisfied: kiwisolver>=1.0.1 in /usr/local/lib/python3.6/dist-packages (from matplotlib) (1.1.0)\n",
            "Requirement already satisfied: six>=1.5 in /usr/local/lib/python3.6/dist-packages (from python-dateutil>=2.5.0->pandas) (1.12.0)\n",
            "Requirement already satisfied: setuptools in /usr/local/lib/python3.6/dist-packages (from kiwisolver>=1.0.1->matplotlib) (41.0.1)\n"
          ],
          "name": "stdout"
        }
      ]
    },
    {
      "cell_type": "code",
      "metadata": {
        "id": "b-BDuEbbWHQH",
        "colab_type": "code",
        "colab": {}
      },
      "source": [
        "import pandas as pd"
      ],
      "execution_count": 0,
      "outputs": []
    },
    {
      "cell_type": "code",
      "metadata": {
        "id": "fxFsFmkmWbct",
        "colab_type": "code",
        "colab": {}
      },
      "source": [
        "survey_df = pd.read_csv(\"surveys.csv\")"
      ],
      "execution_count": 0,
      "outputs": []
    },
    {
      "cell_type": "code",
      "metadata": {
        "id": "w413yOyoXDjO",
        "colab_type": "code",
        "colab": {}
      },
      "source": [
        "survey_df"
      ],
      "execution_count": 0,
      "outputs": []
    },
    {
      "cell_type": "code",
      "metadata": {
        "id": "sSrkkk8tXNwA",
        "colab_type": "code",
        "colab": {
          "base_uri": "https://localhost:8080/",
          "height": 224
        },
        "outputId": "dbaae4bc-6371-428b-f8a3-3b3cf58288b3"
      },
      "source": [
        "survey_df.head()"
      ],
      "execution_count": 10,
      "outputs": [
        {
          "output_type": "execute_result",
          "data": {
            "text/html": [
              "<div>\n",
              "<style scoped>\n",
              "    .dataframe tbody tr th:only-of-type {\n",
              "        vertical-align: middle;\n",
              "    }\n",
              "\n",
              "    .dataframe tbody tr th {\n",
              "        vertical-align: top;\n",
              "    }\n",
              "\n",
              "    .dataframe thead th {\n",
              "        text-align: right;\n",
              "    }\n",
              "</style>\n",
              "<table border=\"1\" class=\"dataframe\">\n",
              "  <thead>\n",
              "    <tr style=\"text-align: right;\">\n",
              "      <th></th>\n",
              "      <th>record_id</th>\n",
              "      <th>month</th>\n",
              "      <th>day</th>\n",
              "      <th>year</th>\n",
              "      <th>site_id</th>\n",
              "      <th>species_id</th>\n",
              "      <th>sex</th>\n",
              "      <th>hindfoot_length</th>\n",
              "      <th>weight</th>\n",
              "    </tr>\n",
              "  </thead>\n",
              "  <tbody>\n",
              "    <tr>\n",
              "      <th>0</th>\n",
              "      <td>1</td>\n",
              "      <td>7</td>\n",
              "      <td>16</td>\n",
              "      <td>1977</td>\n",
              "      <td>2</td>\n",
              "      <td>NL</td>\n",
              "      <td>M</td>\n",
              "      <td>32.0</td>\n",
              "      <td>NaN</td>\n",
              "    </tr>\n",
              "    <tr>\n",
              "      <th>1</th>\n",
              "      <td>2</td>\n",
              "      <td>7</td>\n",
              "      <td>16</td>\n",
              "      <td>1977</td>\n",
              "      <td>3</td>\n",
              "      <td>NL</td>\n",
              "      <td>M</td>\n",
              "      <td>33.0</td>\n",
              "      <td>NaN</td>\n",
              "    </tr>\n",
              "    <tr>\n",
              "      <th>2</th>\n",
              "      <td>3</td>\n",
              "      <td>7</td>\n",
              "      <td>16</td>\n",
              "      <td>1977</td>\n",
              "      <td>2</td>\n",
              "      <td>DM</td>\n",
              "      <td>F</td>\n",
              "      <td>37.0</td>\n",
              "      <td>NaN</td>\n",
              "    </tr>\n",
              "    <tr>\n",
              "      <th>3</th>\n",
              "      <td>4</td>\n",
              "      <td>7</td>\n",
              "      <td>16</td>\n",
              "      <td>1977</td>\n",
              "      <td>7</td>\n",
              "      <td>DM</td>\n",
              "      <td>M</td>\n",
              "      <td>36.0</td>\n",
              "      <td>NaN</td>\n",
              "    </tr>\n",
              "    <tr>\n",
              "      <th>4</th>\n",
              "      <td>5</td>\n",
              "      <td>7</td>\n",
              "      <td>16</td>\n",
              "      <td>1977</td>\n",
              "      <td>3</td>\n",
              "      <td>DM</td>\n",
              "      <td>M</td>\n",
              "      <td>35.0</td>\n",
              "      <td>NaN</td>\n",
              "    </tr>\n",
              "  </tbody>\n",
              "</table>\n",
              "</div>"
            ],
            "text/plain": [
              "   record_id  month  day  year  site_id species_id sex  hindfoot_length  weight\n",
              "0          1      7   16  1977        2         NL   M             32.0     NaN\n",
              "1          2      7   16  1977        3         NL   M             33.0     NaN\n",
              "2          3      7   16  1977        2         DM   F             37.0     NaN\n",
              "3          4      7   16  1977        7         DM   M             36.0     NaN\n",
              "4          5      7   16  1977        3         DM   M             35.0     NaN"
            ]
          },
          "metadata": {
            "tags": []
          },
          "execution_count": 10
        }
      ]
    },
    {
      "cell_type": "code",
      "metadata": {
        "id": "JPS36GHtnDFF",
        "colab_type": "code",
        "colab": {
          "base_uri": "https://localhost:8080/",
          "height": 224
        },
        "outputId": "62739972-89f9-4ba0-c539-9a4614b2c607"
      },
      "source": [
        "survey_df.tail()"
      ],
      "execution_count": 11,
      "outputs": [
        {
          "output_type": "execute_result",
          "data": {
            "text/html": [
              "<div>\n",
              "<style scoped>\n",
              "    .dataframe tbody tr th:only-of-type {\n",
              "        vertical-align: middle;\n",
              "    }\n",
              "\n",
              "    .dataframe tbody tr th {\n",
              "        vertical-align: top;\n",
              "    }\n",
              "\n",
              "    .dataframe thead th {\n",
              "        text-align: right;\n",
              "    }\n",
              "</style>\n",
              "<table border=\"1\" class=\"dataframe\">\n",
              "  <thead>\n",
              "    <tr style=\"text-align: right;\">\n",
              "      <th></th>\n",
              "      <th>record_id</th>\n",
              "      <th>month</th>\n",
              "      <th>day</th>\n",
              "      <th>year</th>\n",
              "      <th>site_id</th>\n",
              "      <th>species_id</th>\n",
              "      <th>sex</th>\n",
              "      <th>hindfoot_length</th>\n",
              "      <th>weight</th>\n",
              "    </tr>\n",
              "  </thead>\n",
              "  <tbody>\n",
              "    <tr>\n",
              "      <th>35544</th>\n",
              "      <td>35545</td>\n",
              "      <td>12</td>\n",
              "      <td>31</td>\n",
              "      <td>2002</td>\n",
              "      <td>15</td>\n",
              "      <td>AH</td>\n",
              "      <td>NaN</td>\n",
              "      <td>NaN</td>\n",
              "      <td>NaN</td>\n",
              "    </tr>\n",
              "    <tr>\n",
              "      <th>35545</th>\n",
              "      <td>35546</td>\n",
              "      <td>12</td>\n",
              "      <td>31</td>\n",
              "      <td>2002</td>\n",
              "      <td>15</td>\n",
              "      <td>AH</td>\n",
              "      <td>NaN</td>\n",
              "      <td>NaN</td>\n",
              "      <td>NaN</td>\n",
              "    </tr>\n",
              "    <tr>\n",
              "      <th>35546</th>\n",
              "      <td>35547</td>\n",
              "      <td>12</td>\n",
              "      <td>31</td>\n",
              "      <td>2002</td>\n",
              "      <td>10</td>\n",
              "      <td>RM</td>\n",
              "      <td>F</td>\n",
              "      <td>15.0</td>\n",
              "      <td>14.0</td>\n",
              "    </tr>\n",
              "    <tr>\n",
              "      <th>35547</th>\n",
              "      <td>35548</td>\n",
              "      <td>12</td>\n",
              "      <td>31</td>\n",
              "      <td>2002</td>\n",
              "      <td>7</td>\n",
              "      <td>DO</td>\n",
              "      <td>M</td>\n",
              "      <td>36.0</td>\n",
              "      <td>51.0</td>\n",
              "    </tr>\n",
              "    <tr>\n",
              "      <th>35548</th>\n",
              "      <td>35549</td>\n",
              "      <td>12</td>\n",
              "      <td>31</td>\n",
              "      <td>2002</td>\n",
              "      <td>5</td>\n",
              "      <td>NaN</td>\n",
              "      <td>NaN</td>\n",
              "      <td>NaN</td>\n",
              "      <td>NaN</td>\n",
              "    </tr>\n",
              "  </tbody>\n",
              "</table>\n",
              "</div>"
            ],
            "text/plain": [
              "       record_id  month  day  year  ...  species_id  sex hindfoot_length  weight\n",
              "35544      35545     12   31  2002  ...          AH  NaN             NaN     NaN\n",
              "35545      35546     12   31  2002  ...          AH  NaN             NaN     NaN\n",
              "35546      35547     12   31  2002  ...          RM    F            15.0    14.0\n",
              "35547      35548     12   31  2002  ...          DO    M            36.0    51.0\n",
              "35548      35549     12   31  2002  ...         NaN  NaN             NaN     NaN\n",
              "\n",
              "[5 rows x 9 columns]"
            ]
          },
          "metadata": {
            "tags": []
          },
          "execution_count": 11
        }
      ]
    },
    {
      "cell_type": "code",
      "metadata": {
        "id": "-9Oduac3nHOU",
        "colab_type": "code",
        "colab": {
          "base_uri": "https://localhost:8080/",
          "height": 34
        },
        "outputId": "9c3e50c5-8236-463c-cdc0-5b9925c2d708"
      },
      "source": [
        "type(survey_df)"
      ],
      "execution_count": 12,
      "outputs": [
        {
          "output_type": "execute_result",
          "data": {
            "text/plain": [
              "pandas.core.frame.DataFrame"
            ]
          },
          "metadata": {
            "tags": []
          },
          "execution_count": 12
        }
      ]
    },
    {
      "cell_type": "code",
      "metadata": {
        "id": "o3t635venLz3",
        "colab_type": "code",
        "colab": {
          "base_uri": "https://localhost:8080/",
          "height": 187
        },
        "outputId": "bbc8192e-fa7c-41bb-a899-629f514ec2eb"
      },
      "source": [
        "survey_df.dtypes"
      ],
      "execution_count": 13,
      "outputs": [
        {
          "output_type": "execute_result",
          "data": {
            "text/plain": [
              "record_id            int64\n",
              "month                int64\n",
              "day                  int64\n",
              "year                 int64\n",
              "site_id              int64\n",
              "species_id          object\n",
              "sex                 object\n",
              "hindfoot_length    float64\n",
              "weight             float64\n",
              "dtype: object"
            ]
          },
          "metadata": {
            "tags": []
          },
          "execution_count": 13
        }
      ]
    },
    {
      "cell_type": "code",
      "metadata": {
        "id": "Srz2XMbwnWt7",
        "colab_type": "code",
        "colab": {
          "base_uri": "https://localhost:8080/",
          "height": 88
        },
        "outputId": "9585fdaf-6669-42e5-dd5e-5d42dbac2e04"
      },
      "source": [
        "survey_df.columns"
      ],
      "execution_count": 16,
      "outputs": [
        {
          "output_type": "execute_result",
          "data": {
            "text/plain": [
              "Index(['record_id', 'month', 'day', 'year', 'site_id', 'species_id', 'sex',\n",
              "       'hindfoot_length', 'weight'],\n",
              "      dtype='object')"
            ]
          },
          "metadata": {
            "tags": []
          },
          "execution_count": 16
        }
      ]
    },
    {
      "cell_type": "code",
      "metadata": {
        "id": "l0ntWHVcnpTZ",
        "colab_type": "code",
        "colab": {
          "base_uri": "https://localhost:8080/",
          "height": 34
        },
        "outputId": "326c055d-fcc4-46c4-82e9-d17451eb0d8d"
      },
      "source": [
        "survey_df.shape"
      ],
      "execution_count": 17,
      "outputs": [
        {
          "output_type": "execute_result",
          "data": {
            "text/plain": [
              "(35549, 9)"
            ]
          },
          "metadata": {
            "tags": []
          },
          "execution_count": 17
        }
      ]
    },
    {
      "cell_type": "code",
      "metadata": {
        "id": "LuDCWmSloKUQ",
        "colab_type": "code",
        "colab": {
          "base_uri": "https://localhost:8080/",
          "height": 534
        },
        "outputId": "bd8de1e2-614e-4b62-adec-4fb0718f8832"
      },
      "source": [
        "survey_df.head(15)"
      ],
      "execution_count": 18,
      "outputs": [
        {
          "output_type": "execute_result",
          "data": {
            "text/html": [
              "<div>\n",
              "<style scoped>\n",
              "    .dataframe tbody tr th:only-of-type {\n",
              "        vertical-align: middle;\n",
              "    }\n",
              "\n",
              "    .dataframe tbody tr th {\n",
              "        vertical-align: top;\n",
              "    }\n",
              "\n",
              "    .dataframe thead th {\n",
              "        text-align: right;\n",
              "    }\n",
              "</style>\n",
              "<table border=\"1\" class=\"dataframe\">\n",
              "  <thead>\n",
              "    <tr style=\"text-align: right;\">\n",
              "      <th></th>\n",
              "      <th>record_id</th>\n",
              "      <th>month</th>\n",
              "      <th>day</th>\n",
              "      <th>year</th>\n",
              "      <th>site_id</th>\n",
              "      <th>species_id</th>\n",
              "      <th>sex</th>\n",
              "      <th>hindfoot_length</th>\n",
              "      <th>weight</th>\n",
              "    </tr>\n",
              "  </thead>\n",
              "  <tbody>\n",
              "    <tr>\n",
              "      <th>0</th>\n",
              "      <td>1</td>\n",
              "      <td>7</td>\n",
              "      <td>16</td>\n",
              "      <td>1977</td>\n",
              "      <td>2</td>\n",
              "      <td>NL</td>\n",
              "      <td>M</td>\n",
              "      <td>32.0</td>\n",
              "      <td>NaN</td>\n",
              "    </tr>\n",
              "    <tr>\n",
              "      <th>1</th>\n",
              "      <td>2</td>\n",
              "      <td>7</td>\n",
              "      <td>16</td>\n",
              "      <td>1977</td>\n",
              "      <td>3</td>\n",
              "      <td>NL</td>\n",
              "      <td>M</td>\n",
              "      <td>33.0</td>\n",
              "      <td>NaN</td>\n",
              "    </tr>\n",
              "    <tr>\n",
              "      <th>2</th>\n",
              "      <td>3</td>\n",
              "      <td>7</td>\n",
              "      <td>16</td>\n",
              "      <td>1977</td>\n",
              "      <td>2</td>\n",
              "      <td>DM</td>\n",
              "      <td>F</td>\n",
              "      <td>37.0</td>\n",
              "      <td>NaN</td>\n",
              "    </tr>\n",
              "    <tr>\n",
              "      <th>3</th>\n",
              "      <td>4</td>\n",
              "      <td>7</td>\n",
              "      <td>16</td>\n",
              "      <td>1977</td>\n",
              "      <td>7</td>\n",
              "      <td>DM</td>\n",
              "      <td>M</td>\n",
              "      <td>36.0</td>\n",
              "      <td>NaN</td>\n",
              "    </tr>\n",
              "    <tr>\n",
              "      <th>4</th>\n",
              "      <td>5</td>\n",
              "      <td>7</td>\n",
              "      <td>16</td>\n",
              "      <td>1977</td>\n",
              "      <td>3</td>\n",
              "      <td>DM</td>\n",
              "      <td>M</td>\n",
              "      <td>35.0</td>\n",
              "      <td>NaN</td>\n",
              "    </tr>\n",
              "    <tr>\n",
              "      <th>5</th>\n",
              "      <td>6</td>\n",
              "      <td>7</td>\n",
              "      <td>16</td>\n",
              "      <td>1977</td>\n",
              "      <td>1</td>\n",
              "      <td>PF</td>\n",
              "      <td>M</td>\n",
              "      <td>14.0</td>\n",
              "      <td>NaN</td>\n",
              "    </tr>\n",
              "    <tr>\n",
              "      <th>6</th>\n",
              "      <td>7</td>\n",
              "      <td>7</td>\n",
              "      <td>16</td>\n",
              "      <td>1977</td>\n",
              "      <td>2</td>\n",
              "      <td>PE</td>\n",
              "      <td>F</td>\n",
              "      <td>NaN</td>\n",
              "      <td>NaN</td>\n",
              "    </tr>\n",
              "    <tr>\n",
              "      <th>7</th>\n",
              "      <td>8</td>\n",
              "      <td>7</td>\n",
              "      <td>16</td>\n",
              "      <td>1977</td>\n",
              "      <td>1</td>\n",
              "      <td>DM</td>\n",
              "      <td>M</td>\n",
              "      <td>37.0</td>\n",
              "      <td>NaN</td>\n",
              "    </tr>\n",
              "    <tr>\n",
              "      <th>8</th>\n",
              "      <td>9</td>\n",
              "      <td>7</td>\n",
              "      <td>16</td>\n",
              "      <td>1977</td>\n",
              "      <td>1</td>\n",
              "      <td>DM</td>\n",
              "      <td>F</td>\n",
              "      <td>34.0</td>\n",
              "      <td>NaN</td>\n",
              "    </tr>\n",
              "    <tr>\n",
              "      <th>9</th>\n",
              "      <td>10</td>\n",
              "      <td>7</td>\n",
              "      <td>16</td>\n",
              "      <td>1977</td>\n",
              "      <td>6</td>\n",
              "      <td>PF</td>\n",
              "      <td>F</td>\n",
              "      <td>20.0</td>\n",
              "      <td>NaN</td>\n",
              "    </tr>\n",
              "    <tr>\n",
              "      <th>10</th>\n",
              "      <td>11</td>\n",
              "      <td>7</td>\n",
              "      <td>16</td>\n",
              "      <td>1977</td>\n",
              "      <td>5</td>\n",
              "      <td>DS</td>\n",
              "      <td>F</td>\n",
              "      <td>53.0</td>\n",
              "      <td>NaN</td>\n",
              "    </tr>\n",
              "    <tr>\n",
              "      <th>11</th>\n",
              "      <td>12</td>\n",
              "      <td>7</td>\n",
              "      <td>16</td>\n",
              "      <td>1977</td>\n",
              "      <td>7</td>\n",
              "      <td>DM</td>\n",
              "      <td>M</td>\n",
              "      <td>38.0</td>\n",
              "      <td>NaN</td>\n",
              "    </tr>\n",
              "    <tr>\n",
              "      <th>12</th>\n",
              "      <td>13</td>\n",
              "      <td>7</td>\n",
              "      <td>16</td>\n",
              "      <td>1977</td>\n",
              "      <td>3</td>\n",
              "      <td>DM</td>\n",
              "      <td>M</td>\n",
              "      <td>35.0</td>\n",
              "      <td>NaN</td>\n",
              "    </tr>\n",
              "    <tr>\n",
              "      <th>13</th>\n",
              "      <td>14</td>\n",
              "      <td>7</td>\n",
              "      <td>16</td>\n",
              "      <td>1977</td>\n",
              "      <td>8</td>\n",
              "      <td>DM</td>\n",
              "      <td>NaN</td>\n",
              "      <td>NaN</td>\n",
              "      <td>NaN</td>\n",
              "    </tr>\n",
              "    <tr>\n",
              "      <th>14</th>\n",
              "      <td>15</td>\n",
              "      <td>7</td>\n",
              "      <td>16</td>\n",
              "      <td>1977</td>\n",
              "      <td>6</td>\n",
              "      <td>DM</td>\n",
              "      <td>F</td>\n",
              "      <td>36.0</td>\n",
              "      <td>NaN</td>\n",
              "    </tr>\n",
              "  </tbody>\n",
              "</table>\n",
              "</div>"
            ],
            "text/plain": [
              "    record_id  month  day  year  ...  species_id  sex hindfoot_length  weight\n",
              "0           1      7   16  1977  ...          NL    M            32.0     NaN\n",
              "1           2      7   16  1977  ...          NL    M            33.0     NaN\n",
              "2           3      7   16  1977  ...          DM    F            37.0     NaN\n",
              "3           4      7   16  1977  ...          DM    M            36.0     NaN\n",
              "4           5      7   16  1977  ...          DM    M            35.0     NaN\n",
              "5           6      7   16  1977  ...          PF    M            14.0     NaN\n",
              "6           7      7   16  1977  ...          PE    F             NaN     NaN\n",
              "7           8      7   16  1977  ...          DM    M            37.0     NaN\n",
              "8           9      7   16  1977  ...          DM    F            34.0     NaN\n",
              "9          10      7   16  1977  ...          PF    F            20.0     NaN\n",
              "10         11      7   16  1977  ...          DS    F            53.0     NaN\n",
              "11         12      7   16  1977  ...          DM    M            38.0     NaN\n",
              "12         13      7   16  1977  ...          DM    M            35.0     NaN\n",
              "13         14      7   16  1977  ...          DM  NaN             NaN     NaN\n",
              "14         15      7   16  1977  ...          DM    F            36.0     NaN\n",
              "\n",
              "[15 rows x 9 columns]"
            ]
          },
          "metadata": {
            "tags": []
          },
          "execution_count": 18
        }
      ]
    },
    {
      "cell_type": "code",
      "metadata": {
        "id": "hx8Qlb0soV0N",
        "colab_type": "code",
        "colab": {
          "base_uri": "https://localhost:8080/",
          "height": 379
        },
        "outputId": "83c2e081-096d-46f0-c463-5c9184f55dd3"
      },
      "source": [
        "survey_df.tail(10)"
      ],
      "execution_count": 19,
      "outputs": [
        {
          "output_type": "execute_result",
          "data": {
            "text/html": [
              "<div>\n",
              "<style scoped>\n",
              "    .dataframe tbody tr th:only-of-type {\n",
              "        vertical-align: middle;\n",
              "    }\n",
              "\n",
              "    .dataframe tbody tr th {\n",
              "        vertical-align: top;\n",
              "    }\n",
              "\n",
              "    .dataframe thead th {\n",
              "        text-align: right;\n",
              "    }\n",
              "</style>\n",
              "<table border=\"1\" class=\"dataframe\">\n",
              "  <thead>\n",
              "    <tr style=\"text-align: right;\">\n",
              "      <th></th>\n",
              "      <th>record_id</th>\n",
              "      <th>month</th>\n",
              "      <th>day</th>\n",
              "      <th>year</th>\n",
              "      <th>site_id</th>\n",
              "      <th>species_id</th>\n",
              "      <th>sex</th>\n",
              "      <th>hindfoot_length</th>\n",
              "      <th>weight</th>\n",
              "    </tr>\n",
              "  </thead>\n",
              "  <tbody>\n",
              "    <tr>\n",
              "      <th>35539</th>\n",
              "      <td>35540</td>\n",
              "      <td>12</td>\n",
              "      <td>31</td>\n",
              "      <td>2002</td>\n",
              "      <td>15</td>\n",
              "      <td>PB</td>\n",
              "      <td>F</td>\n",
              "      <td>26.0</td>\n",
              "      <td>23.0</td>\n",
              "    </tr>\n",
              "    <tr>\n",
              "      <th>35540</th>\n",
              "      <td>35541</td>\n",
              "      <td>12</td>\n",
              "      <td>31</td>\n",
              "      <td>2002</td>\n",
              "      <td>15</td>\n",
              "      <td>PB</td>\n",
              "      <td>F</td>\n",
              "      <td>24.0</td>\n",
              "      <td>31.0</td>\n",
              "    </tr>\n",
              "    <tr>\n",
              "      <th>35541</th>\n",
              "      <td>35542</td>\n",
              "      <td>12</td>\n",
              "      <td>31</td>\n",
              "      <td>2002</td>\n",
              "      <td>15</td>\n",
              "      <td>PB</td>\n",
              "      <td>F</td>\n",
              "      <td>26.0</td>\n",
              "      <td>29.0</td>\n",
              "    </tr>\n",
              "    <tr>\n",
              "      <th>35542</th>\n",
              "      <td>35543</td>\n",
              "      <td>12</td>\n",
              "      <td>31</td>\n",
              "      <td>2002</td>\n",
              "      <td>15</td>\n",
              "      <td>PB</td>\n",
              "      <td>F</td>\n",
              "      <td>27.0</td>\n",
              "      <td>34.0</td>\n",
              "    </tr>\n",
              "    <tr>\n",
              "      <th>35543</th>\n",
              "      <td>35544</td>\n",
              "      <td>12</td>\n",
              "      <td>31</td>\n",
              "      <td>2002</td>\n",
              "      <td>15</td>\n",
              "      <td>US</td>\n",
              "      <td>NaN</td>\n",
              "      <td>NaN</td>\n",
              "      <td>NaN</td>\n",
              "    </tr>\n",
              "    <tr>\n",
              "      <th>35544</th>\n",
              "      <td>35545</td>\n",
              "      <td>12</td>\n",
              "      <td>31</td>\n",
              "      <td>2002</td>\n",
              "      <td>15</td>\n",
              "      <td>AH</td>\n",
              "      <td>NaN</td>\n",
              "      <td>NaN</td>\n",
              "      <td>NaN</td>\n",
              "    </tr>\n",
              "    <tr>\n",
              "      <th>35545</th>\n",
              "      <td>35546</td>\n",
              "      <td>12</td>\n",
              "      <td>31</td>\n",
              "      <td>2002</td>\n",
              "      <td>15</td>\n",
              "      <td>AH</td>\n",
              "      <td>NaN</td>\n",
              "      <td>NaN</td>\n",
              "      <td>NaN</td>\n",
              "    </tr>\n",
              "    <tr>\n",
              "      <th>35546</th>\n",
              "      <td>35547</td>\n",
              "      <td>12</td>\n",
              "      <td>31</td>\n",
              "      <td>2002</td>\n",
              "      <td>10</td>\n",
              "      <td>RM</td>\n",
              "      <td>F</td>\n",
              "      <td>15.0</td>\n",
              "      <td>14.0</td>\n",
              "    </tr>\n",
              "    <tr>\n",
              "      <th>35547</th>\n",
              "      <td>35548</td>\n",
              "      <td>12</td>\n",
              "      <td>31</td>\n",
              "      <td>2002</td>\n",
              "      <td>7</td>\n",
              "      <td>DO</td>\n",
              "      <td>M</td>\n",
              "      <td>36.0</td>\n",
              "      <td>51.0</td>\n",
              "    </tr>\n",
              "    <tr>\n",
              "      <th>35548</th>\n",
              "      <td>35549</td>\n",
              "      <td>12</td>\n",
              "      <td>31</td>\n",
              "      <td>2002</td>\n",
              "      <td>5</td>\n",
              "      <td>NaN</td>\n",
              "      <td>NaN</td>\n",
              "      <td>NaN</td>\n",
              "      <td>NaN</td>\n",
              "    </tr>\n",
              "  </tbody>\n",
              "</table>\n",
              "</div>"
            ],
            "text/plain": [
              "       record_id  month  day  year  ...  species_id  sex hindfoot_length  weight\n",
              "35539      35540     12   31  2002  ...          PB    F            26.0    23.0\n",
              "35540      35541     12   31  2002  ...          PB    F            24.0    31.0\n",
              "35541      35542     12   31  2002  ...          PB    F            26.0    29.0\n",
              "35542      35543     12   31  2002  ...          PB    F            27.0    34.0\n",
              "35543      35544     12   31  2002  ...          US  NaN             NaN     NaN\n",
              "35544      35545     12   31  2002  ...          AH  NaN             NaN     NaN\n",
              "35545      35546     12   31  2002  ...          AH  NaN             NaN     NaN\n",
              "35546      35547     12   31  2002  ...          RM    F            15.0    14.0\n",
              "35547      35548     12   31  2002  ...          DO    M            36.0    51.0\n",
              "35548      35549     12   31  2002  ...         NaN  NaN             NaN     NaN\n",
              "\n",
              "[10 rows x 9 columns]"
            ]
          },
          "metadata": {
            "tags": []
          },
          "execution_count": 19
        }
      ]
    },
    {
      "cell_type": "code",
      "metadata": {
        "id": "_zJ4Z9qroZ7l",
        "colab_type": "code",
        "colab": {}
      },
      "source": [
        "help(survey_df)"
      ],
      "execution_count": 0,
      "outputs": []
    },
    {
      "cell_type": "code",
      "metadata": {
        "id": "A92v-o1yofpX",
        "colab_type": "code",
        "colab": {}
      },
      "source": [
        "?survey_df"
      ],
      "execution_count": 0,
      "outputs": []
    },
    {
      "cell_type": "markdown",
      "metadata": {
        "id": "rMN7FRlXpS20",
        "colab_type": "text"
      },
      "source": [
        "Calculating Statistics From Data"
      ]
    },
    {
      "cell_type": "code",
      "metadata": {
        "id": "Y02ptgHlpXRK",
        "colab_type": "code",
        "colab": {
          "base_uri": "https://localhost:8080/",
          "height": 122
        },
        "outputId": "598dcc1d-33d5-4027-e436-7254e3d6deb4"
      },
      "source": [
        "pd.unique(survey_df['species_id'])"
      ],
      "execution_count": 22,
      "outputs": [
        {
          "output_type": "execute_result",
          "data": {
            "text/plain": [
              "array(['NL', 'DM', 'PF', 'PE', 'DS', 'PP', 'SH', 'OT', 'DO', 'OX', 'SS',\n",
              "       'OL', 'RM', nan, 'SA', 'PM', 'AH', 'DX', 'AB', 'CB', 'CM', 'CQ',\n",
              "       'RF', 'PC', 'PG', 'PH', 'PU', 'CV', 'UR', 'UP', 'ZL', 'UL', 'CS',\n",
              "       'SC', 'BA', 'SF', 'RO', 'AS', 'SO', 'PI', 'ST', 'CU', 'SU', 'RX',\n",
              "       'PB', 'PL', 'PX', 'CT', 'US'], dtype=object)"
            ]
          },
          "metadata": {
            "tags": []
          },
          "execution_count": 22
        }
      ]
    },
    {
      "cell_type": "code",
      "metadata": {
        "id": "B9yLCKW1qVp0",
        "colab_type": "code",
        "colab": {
          "base_uri": "https://localhost:8080/",
          "height": 71
        },
        "outputId": "476d036f-1ee2-4f27-e520-9810743bbbbe"
      },
      "source": [
        "site_names = pd.unique(survey_df['site_id'])\n",
        "site_names"
      ],
      "execution_count": 24,
      "outputs": [
        {
          "output_type": "execute_result",
          "data": {
            "text/plain": [
              "array([ 2,  3,  7,  1,  6,  5,  8,  4, 11, 14, 15, 13,  9, 10, 17, 16, 20,\n",
              "       23, 18, 21, 22, 19, 12, 24])"
            ]
          },
          "metadata": {
            "tags": []
          },
          "execution_count": 24
        }
      ]
    },
    {
      "cell_type": "code",
      "metadata": {
        "id": "8MEH_ub2qfVq",
        "colab_type": "code",
        "colab": {
          "base_uri": "https://localhost:8080/",
          "height": 34
        },
        "outputId": "d82dde1c-1ff3-4a2e-a590-c49ff2c5c27b"
      },
      "source": [
        "len(site_names)"
      ],
      "execution_count": 25,
      "outputs": [
        {
          "output_type": "execute_result",
          "data": {
            "text/plain": [
              "24"
            ]
          },
          "metadata": {
            "tags": []
          },
          "execution_count": 25
        }
      ]
    },
    {
      "cell_type": "code",
      "metadata": {
        "id": "cESpcgL7q7pP",
        "colab_type": "code",
        "colab": {
          "base_uri": "https://localhost:8080/",
          "height": 34
        },
        "outputId": "f0222542-85b3-4070-ab4a-f8b48fb4b1e3"
      },
      "source": [
        "len(pd.unique(survey_df['species_id']))"
      ],
      "execution_count": 27,
      "outputs": [
        {
          "output_type": "execute_result",
          "data": {
            "text/plain": [
              "49"
            ]
          },
          "metadata": {
            "tags": []
          },
          "execution_count": 27
        }
      ]
    },
    {
      "cell_type": "code",
      "metadata": {
        "id": "rBQeNfpGqkKE",
        "colab_type": "code",
        "colab": {
          "base_uri": "https://localhost:8080/",
          "height": 34
        },
        "outputId": "b3397185-14f2-4b69-cead-a3c24bc80578"
      },
      "source": [
        "survey_df['site_id'].nunique()"
      ],
      "execution_count": 26,
      "outputs": [
        {
          "output_type": "execute_result",
          "data": {
            "text/plain": [
              "24"
            ]
          },
          "metadata": {
            "tags": []
          },
          "execution_count": 26
        }
      ]
    },
    {
      "cell_type": "code",
      "metadata": {
        "id": "d8a3cexUqwLo",
        "colab_type": "code",
        "colab": {
          "base_uri": "https://localhost:8080/",
          "height": 34
        },
        "outputId": "07317a7e-94e6-4037-ebc0-bc41595bfd5e"
      },
      "source": [
        "site_names.size"
      ],
      "execution_count": 28,
      "outputs": [
        {
          "output_type": "execute_result",
          "data": {
            "text/plain": [
              "24"
            ]
          },
          "metadata": {
            "tags": []
          },
          "execution_count": 28
        }
      ]
    },
    {
      "cell_type": "code",
      "metadata": {
        "id": "iWGkN-4-rmQX",
        "colab_type": "code",
        "colab": {}
      },
      "source": [
        "?survey_df.nunique() ## drop NAs by default"
      ],
      "execution_count": 0,
      "outputs": []
    },
    {
      "cell_type": "code",
      "metadata": {
        "id": "GKMRPCoLrov5",
        "colab_type": "code",
        "colab": {
          "base_uri": "https://localhost:8080/",
          "height": 34
        },
        "outputId": "52a1e876-675e-40a5-eeb0-a07b930221a4"
      },
      "source": [
        "survey_df['weight'].nunique()"
      ],
      "execution_count": 41,
      "outputs": [
        {
          "output_type": "execute_result",
          "data": {
            "text/plain": [
              "255"
            ]
          },
          "metadata": {
            "tags": []
          },
          "execution_count": 41
        }
      ]
    },
    {
      "cell_type": "code",
      "metadata": {
        "id": "lkb3RzS-sCAj",
        "colab_type": "code",
        "colab": {
          "base_uri": "https://localhost:8080/",
          "height": 1000
        },
        "outputId": "9ec0e519-189f-435b-9aef-e60a09fafc74"
      },
      "source": [
        "survey_df['weight'].describe"
      ],
      "execution_count": 39,
      "outputs": [
        {
          "output_type": "execute_result",
          "data": {
            "text/plain": [
              "<bound method NDFrame.describe of 0         NaN\n",
              "1         NaN\n",
              "2         NaN\n",
              "3         NaN\n",
              "4         NaN\n",
              "5         NaN\n",
              "6         NaN\n",
              "7         NaN\n",
              "8         NaN\n",
              "9         NaN\n",
              "10        NaN\n",
              "11        NaN\n",
              "12        NaN\n",
              "13        NaN\n",
              "14        NaN\n",
              "15        NaN\n",
              "16        NaN\n",
              "17        NaN\n",
              "18        NaN\n",
              "19        NaN\n",
              "20        NaN\n",
              "21        NaN\n",
              "22        NaN\n",
              "23        NaN\n",
              "24        NaN\n",
              "25        NaN\n",
              "26        NaN\n",
              "27        NaN\n",
              "28        NaN\n",
              "29        NaN\n",
              "         ... \n",
              "35519    36.0\n",
              "35520    48.0\n",
              "35521    45.0\n",
              "35522    44.0\n",
              "35523    27.0\n",
              "35524    26.0\n",
              "35525    24.0\n",
              "35526    43.0\n",
              "35527     NaN\n",
              "35528    25.0\n",
              "35529     NaN\n",
              "35530     NaN\n",
              "35531    43.0\n",
              "35532    48.0\n",
              "35533    56.0\n",
              "35534    53.0\n",
              "35535    42.0\n",
              "35536    46.0\n",
              "35537    31.0\n",
              "35538    68.0\n",
              "35539    23.0\n",
              "35540    31.0\n",
              "35541    29.0\n",
              "35542    34.0\n",
              "35543     NaN\n",
              "35544     NaN\n",
              "35545     NaN\n",
              "35546    14.0\n",
              "35547    51.0\n",
              "35548     NaN\n",
              "Name: weight, Length: 35549, dtype: float64>"
            ]
          },
          "metadata": {
            "tags": []
          },
          "execution_count": 39
        }
      ]
    },
    {
      "cell_type": "code",
      "metadata": {
        "id": "gLvMc1ZAsQxn",
        "colab_type": "code",
        "colab": {
          "base_uri": "https://localhost:8080/",
          "height": 170
        },
        "outputId": "5299e2b1-4254-4a54-f47e-55c78ca25f48"
      },
      "source": [
        "survey_df['weight'].describe()"
      ],
      "execution_count": 44,
      "outputs": [
        {
          "output_type": "execute_result",
          "data": {
            "text/plain": [
              "count    32283.000000\n",
              "mean        42.672428\n",
              "std         36.631259\n",
              "min          4.000000\n",
              "25%         20.000000\n",
              "50%         37.000000\n",
              "75%         48.000000\n",
              "max        280.000000\n",
              "Name: weight, dtype: float64"
            ]
          },
          "metadata": {
            "tags": []
          },
          "execution_count": 44
        }
      ]
    },
    {
      "cell_type": "code",
      "metadata": {
        "id": "s7F1vMWItKE4",
        "colab_type": "code",
        "colab": {
          "base_uri": "https://localhost:8080/",
          "height": 34
        },
        "outputId": "8841a3e6-eeb5-46df-d8ab-2c07584dbb9e"
      },
      "source": [
        "survey_df['weight'].mean()"
      ],
      "execution_count": 45,
      "outputs": [
        {
          "output_type": "execute_result",
          "data": {
            "text/plain": [
              "42.672428212991356"
            ]
          },
          "metadata": {
            "tags": []
          },
          "execution_count": 45
        }
      ]
    },
    {
      "cell_type": "code",
      "metadata": {
        "id": "vrp-I5-ctm84",
        "colab_type": "code",
        "colab": {
          "base_uri": "https://localhost:8080/",
          "height": 193
        },
        "outputId": "9ec450a8-412f-4a41-ebae-51ca1d06bc34"
      },
      "source": [
        "grouped_data = survey_df.groupby('sex')\n",
        "grouped_data.describe()"
      ],
      "execution_count": 48,
      "outputs": [
        {
          "output_type": "execute_result",
          "data": {
            "text/html": [
              "<div>\n",
              "<style scoped>\n",
              "    .dataframe tbody tr th:only-of-type {\n",
              "        vertical-align: middle;\n",
              "    }\n",
              "\n",
              "    .dataframe tbody tr th {\n",
              "        vertical-align: top;\n",
              "    }\n",
              "\n",
              "    .dataframe thead tr th {\n",
              "        text-align: left;\n",
              "    }\n",
              "\n",
              "    .dataframe thead tr:last-of-type th {\n",
              "        text-align: right;\n",
              "    }\n",
              "</style>\n",
              "<table border=\"1\" class=\"dataframe\">\n",
              "  <thead>\n",
              "    <tr>\n",
              "      <th></th>\n",
              "      <th colspan=\"8\" halign=\"left\">record_id</th>\n",
              "      <th colspan=\"8\" halign=\"left\">month</th>\n",
              "      <th colspan=\"8\" halign=\"left\">day</th>\n",
              "      <th colspan=\"8\" halign=\"left\">year</th>\n",
              "      <th colspan=\"8\" halign=\"left\">site_id</th>\n",
              "      <th colspan=\"8\" halign=\"left\">hindfoot_length</th>\n",
              "      <th colspan=\"8\" halign=\"left\">weight</th>\n",
              "    </tr>\n",
              "    <tr>\n",
              "      <th></th>\n",
              "      <th>count</th>\n",
              "      <th>mean</th>\n",
              "      <th>std</th>\n",
              "      <th>min</th>\n",
              "      <th>25%</th>\n",
              "      <th>50%</th>\n",
              "      <th>75%</th>\n",
              "      <th>max</th>\n",
              "      <th>count</th>\n",
              "      <th>mean</th>\n",
              "      <th>std</th>\n",
              "      <th>min</th>\n",
              "      <th>25%</th>\n",
              "      <th>50%</th>\n",
              "      <th>75%</th>\n",
              "      <th>max</th>\n",
              "      <th>count</th>\n",
              "      <th>mean</th>\n",
              "      <th>std</th>\n",
              "      <th>min</th>\n",
              "      <th>25%</th>\n",
              "      <th>50%</th>\n",
              "      <th>75%</th>\n",
              "      <th>max</th>\n",
              "      <th>count</th>\n",
              "      <th>mean</th>\n",
              "      <th>std</th>\n",
              "      <th>min</th>\n",
              "      <th>25%</th>\n",
              "      <th>50%</th>\n",
              "      <th>75%</th>\n",
              "      <th>max</th>\n",
              "      <th>count</th>\n",
              "      <th>mean</th>\n",
              "      <th>std</th>\n",
              "      <th>min</th>\n",
              "      <th>25%</th>\n",
              "      <th>50%</th>\n",
              "      <th>75%</th>\n",
              "      <th>max</th>\n",
              "      <th>count</th>\n",
              "      <th>mean</th>\n",
              "      <th>std</th>\n",
              "      <th>min</th>\n",
              "      <th>25%</th>\n",
              "      <th>50%</th>\n",
              "      <th>75%</th>\n",
              "      <th>max</th>\n",
              "      <th>count</th>\n",
              "      <th>mean</th>\n",
              "      <th>std</th>\n",
              "      <th>min</th>\n",
              "      <th>25%</th>\n",
              "      <th>50%</th>\n",
              "      <th>75%</th>\n",
              "      <th>max</th>\n",
              "    </tr>\n",
              "    <tr>\n",
              "      <th>sex</th>\n",
              "      <th></th>\n",
              "      <th></th>\n",
              "      <th></th>\n",
              "      <th></th>\n",
              "      <th></th>\n",
              "      <th></th>\n",
              "      <th></th>\n",
              "      <th></th>\n",
              "      <th></th>\n",
              "      <th></th>\n",
              "      <th></th>\n",
              "      <th></th>\n",
              "      <th></th>\n",
              "      <th></th>\n",
              "      <th></th>\n",
              "      <th></th>\n",
              "      <th></th>\n",
              "      <th></th>\n",
              "      <th></th>\n",
              "      <th></th>\n",
              "      <th></th>\n",
              "      <th></th>\n",
              "      <th></th>\n",
              "      <th></th>\n",
              "      <th></th>\n",
              "      <th></th>\n",
              "      <th></th>\n",
              "      <th></th>\n",
              "      <th></th>\n",
              "      <th></th>\n",
              "      <th></th>\n",
              "      <th></th>\n",
              "      <th></th>\n",
              "      <th></th>\n",
              "      <th></th>\n",
              "      <th></th>\n",
              "      <th></th>\n",
              "      <th></th>\n",
              "      <th></th>\n",
              "      <th></th>\n",
              "      <th></th>\n",
              "      <th></th>\n",
              "      <th></th>\n",
              "      <th></th>\n",
              "      <th></th>\n",
              "      <th></th>\n",
              "      <th></th>\n",
              "      <th></th>\n",
              "      <th></th>\n",
              "      <th></th>\n",
              "      <th></th>\n",
              "      <th></th>\n",
              "      <th></th>\n",
              "      <th></th>\n",
              "      <th></th>\n",
              "      <th></th>\n",
              "    </tr>\n",
              "  </thead>\n",
              "  <tbody>\n",
              "    <tr>\n",
              "      <th>F</th>\n",
              "      <td>15690.0</td>\n",
              "      <td>18036.412046</td>\n",
              "      <td>10423.089000</td>\n",
              "      <td>3.0</td>\n",
              "      <td>8917.50</td>\n",
              "      <td>18075.5</td>\n",
              "      <td>27250.00</td>\n",
              "      <td>35547.0</td>\n",
              "      <td>15690.0</td>\n",
              "      <td>6.583047</td>\n",
              "      <td>3.367350</td>\n",
              "      <td>1.0</td>\n",
              "      <td>4.0</td>\n",
              "      <td>7.0</td>\n",
              "      <td>10.0</td>\n",
              "      <td>12.0</td>\n",
              "      <td>15690.0</td>\n",
              "      <td>16.007138</td>\n",
              "      <td>8.271144</td>\n",
              "      <td>1.0</td>\n",
              "      <td>9.0</td>\n",
              "      <td>16.0</td>\n",
              "      <td>23.0</td>\n",
              "      <td>31.0</td>\n",
              "      <td>15690.0</td>\n",
              "      <td>1990.644997</td>\n",
              "      <td>7.598725</td>\n",
              "      <td>1977.0</td>\n",
              "      <td>1984.0</td>\n",
              "      <td>1990.0</td>\n",
              "      <td>1997.0</td>\n",
              "      <td>2002.0</td>\n",
              "      <td>15690.0</td>\n",
              "      <td>11.440854</td>\n",
              "      <td>6.870684</td>\n",
              "      <td>1.0</td>\n",
              "      <td>5.0</td>\n",
              "      <td>12.0</td>\n",
              "      <td>17.0</td>\n",
              "      <td>24.0</td>\n",
              "      <td>14894.0</td>\n",
              "      <td>28.836780</td>\n",
              "      <td>9.463789</td>\n",
              "      <td>7.0</td>\n",
              "      <td>21.0</td>\n",
              "      <td>27.0</td>\n",
              "      <td>36.0</td>\n",
              "      <td>64.0</td>\n",
              "      <td>15303.0</td>\n",
              "      <td>42.170555</td>\n",
              "      <td>36.847958</td>\n",
              "      <td>4.0</td>\n",
              "      <td>20.0</td>\n",
              "      <td>34.0</td>\n",
              "      <td>46.0</td>\n",
              "      <td>274.0</td>\n",
              "    </tr>\n",
              "    <tr>\n",
              "      <th>M</th>\n",
              "      <td>17348.0</td>\n",
              "      <td>17754.835601</td>\n",
              "      <td>10132.203323</td>\n",
              "      <td>1.0</td>\n",
              "      <td>8969.75</td>\n",
              "      <td>17727.5</td>\n",
              "      <td>26454.25</td>\n",
              "      <td>35548.0</td>\n",
              "      <td>17348.0</td>\n",
              "      <td>6.392668</td>\n",
              "      <td>3.420806</td>\n",
              "      <td>1.0</td>\n",
              "      <td>3.0</td>\n",
              "      <td>6.0</td>\n",
              "      <td>9.0</td>\n",
              "      <td>12.0</td>\n",
              "      <td>17348.0</td>\n",
              "      <td>16.184286</td>\n",
              "      <td>8.199274</td>\n",
              "      <td>1.0</td>\n",
              "      <td>9.0</td>\n",
              "      <td>16.0</td>\n",
              "      <td>23.0</td>\n",
              "      <td>31.0</td>\n",
              "      <td>17348.0</td>\n",
              "      <td>1990.480401</td>\n",
              "      <td>7.403655</td>\n",
              "      <td>1977.0</td>\n",
              "      <td>1984.0</td>\n",
              "      <td>1990.0</td>\n",
              "      <td>1997.0</td>\n",
              "      <td>2002.0</td>\n",
              "      <td>17348.0</td>\n",
              "      <td>11.098282</td>\n",
              "      <td>6.728713</td>\n",
              "      <td>1.0</td>\n",
              "      <td>5.0</td>\n",
              "      <td>11.0</td>\n",
              "      <td>17.0</td>\n",
              "      <td>24.0</td>\n",
              "      <td>16476.0</td>\n",
              "      <td>29.709578</td>\n",
              "      <td>9.629246</td>\n",
              "      <td>2.0</td>\n",
              "      <td>21.0</td>\n",
              "      <td>34.0</td>\n",
              "      <td>36.0</td>\n",
              "      <td>58.0</td>\n",
              "      <td>16879.0</td>\n",
              "      <td>42.995379</td>\n",
              "      <td>36.184981</td>\n",
              "      <td>4.0</td>\n",
              "      <td>20.0</td>\n",
              "      <td>39.0</td>\n",
              "      <td>49.0</td>\n",
              "      <td>280.0</td>\n",
              "    </tr>\n",
              "  </tbody>\n",
              "</table>\n",
              "</div>"
            ],
            "text/plain": [
              "    record_id                                   ... weight                   \n",
              "        count          mean           std  min  ...    25%   50%   75%    max\n",
              "sex                                             ...                          \n",
              "F     15690.0  18036.412046  10423.089000  3.0  ...   20.0  34.0  46.0  274.0\n",
              "M     17348.0  17754.835601  10132.203323  1.0  ...   20.0  39.0  49.0  280.0\n",
              "\n",
              "[2 rows x 56 columns]"
            ]
          },
          "metadata": {
            "tags": []
          },
          "execution_count": 48
        }
      ]
    },
    {
      "cell_type": "code",
      "metadata": {
        "id": "30M3HCOEtzzP",
        "colab_type": "code",
        "colab": {
          "base_uri": "https://localhost:8080/",
          "height": 162
        },
        "outputId": "26fef3e9-4f58-4401-b7b0-0ce338e55576"
      },
      "source": [
        "grouped_data.mean()"
      ],
      "execution_count": 49,
      "outputs": [
        {
          "output_type": "execute_result",
          "data": {
            "text/html": [
              "<div>\n",
              "<style scoped>\n",
              "    .dataframe tbody tr th:only-of-type {\n",
              "        vertical-align: middle;\n",
              "    }\n",
              "\n",
              "    .dataframe tbody tr th {\n",
              "        vertical-align: top;\n",
              "    }\n",
              "\n",
              "    .dataframe thead th {\n",
              "        text-align: right;\n",
              "    }\n",
              "</style>\n",
              "<table border=\"1\" class=\"dataframe\">\n",
              "  <thead>\n",
              "    <tr style=\"text-align: right;\">\n",
              "      <th></th>\n",
              "      <th>record_id</th>\n",
              "      <th>month</th>\n",
              "      <th>day</th>\n",
              "      <th>year</th>\n",
              "      <th>site_id</th>\n",
              "      <th>hindfoot_length</th>\n",
              "      <th>weight</th>\n",
              "    </tr>\n",
              "    <tr>\n",
              "      <th>sex</th>\n",
              "      <th></th>\n",
              "      <th></th>\n",
              "      <th></th>\n",
              "      <th></th>\n",
              "      <th></th>\n",
              "      <th></th>\n",
              "      <th></th>\n",
              "    </tr>\n",
              "  </thead>\n",
              "  <tbody>\n",
              "    <tr>\n",
              "      <th>F</th>\n",
              "      <td>18036.412046</td>\n",
              "      <td>6.583047</td>\n",
              "      <td>16.007138</td>\n",
              "      <td>1990.644997</td>\n",
              "      <td>11.440854</td>\n",
              "      <td>28.836780</td>\n",
              "      <td>42.170555</td>\n",
              "    </tr>\n",
              "    <tr>\n",
              "      <th>M</th>\n",
              "      <td>17754.835601</td>\n",
              "      <td>6.392668</td>\n",
              "      <td>16.184286</td>\n",
              "      <td>1990.480401</td>\n",
              "      <td>11.098282</td>\n",
              "      <td>29.709578</td>\n",
              "      <td>42.995379</td>\n",
              "    </tr>\n",
              "  </tbody>\n",
              "</table>\n",
              "</div>"
            ],
            "text/plain": [
              "        record_id     month        day  ...    site_id  hindfoot_length     weight\n",
              "sex                                     ...                                       \n",
              "F    18036.412046  6.583047  16.007138  ...  11.440854        28.836780  42.170555\n",
              "M    17754.835601  6.392668  16.184286  ...  11.098282        29.709578  42.995379\n",
              "\n",
              "[2 rows x 7 columns]"
            ]
          },
          "metadata": {
            "tags": []
          },
          "execution_count": 49
        }
      ]
    },
    {
      "cell_type": "code",
      "metadata": {
        "id": "WKvGtFRFuHnN",
        "colab_type": "code",
        "colab": {
          "base_uri": "https://localhost:8080/",
          "height": 162
        },
        "outputId": "0e2d7231-0079-4534-bdac-4bceaaa7e983"
      },
      "source": [
        "grouped_data.count()"
      ],
      "execution_count": 50,
      "outputs": [
        {
          "output_type": "execute_result",
          "data": {
            "text/html": [
              "<div>\n",
              "<style scoped>\n",
              "    .dataframe tbody tr th:only-of-type {\n",
              "        vertical-align: middle;\n",
              "    }\n",
              "\n",
              "    .dataframe tbody tr th {\n",
              "        vertical-align: top;\n",
              "    }\n",
              "\n",
              "    .dataframe thead th {\n",
              "        text-align: right;\n",
              "    }\n",
              "</style>\n",
              "<table border=\"1\" class=\"dataframe\">\n",
              "  <thead>\n",
              "    <tr style=\"text-align: right;\">\n",
              "      <th></th>\n",
              "      <th>record_id</th>\n",
              "      <th>month</th>\n",
              "      <th>day</th>\n",
              "      <th>year</th>\n",
              "      <th>site_id</th>\n",
              "      <th>species_id</th>\n",
              "      <th>hindfoot_length</th>\n",
              "      <th>weight</th>\n",
              "    </tr>\n",
              "    <tr>\n",
              "      <th>sex</th>\n",
              "      <th></th>\n",
              "      <th></th>\n",
              "      <th></th>\n",
              "      <th></th>\n",
              "      <th></th>\n",
              "      <th></th>\n",
              "      <th></th>\n",
              "      <th></th>\n",
              "    </tr>\n",
              "  </thead>\n",
              "  <tbody>\n",
              "    <tr>\n",
              "      <th>F</th>\n",
              "      <td>15690</td>\n",
              "      <td>15690</td>\n",
              "      <td>15690</td>\n",
              "      <td>15690</td>\n",
              "      <td>15690</td>\n",
              "      <td>15690</td>\n",
              "      <td>14894</td>\n",
              "      <td>15303</td>\n",
              "    </tr>\n",
              "    <tr>\n",
              "      <th>M</th>\n",
              "      <td>17348</td>\n",
              "      <td>17348</td>\n",
              "      <td>17348</td>\n",
              "      <td>17348</td>\n",
              "      <td>17348</td>\n",
              "      <td>17348</td>\n",
              "      <td>16476</td>\n",
              "      <td>16879</td>\n",
              "    </tr>\n",
              "  </tbody>\n",
              "</table>\n",
              "</div>"
            ],
            "text/plain": [
              "     record_id  month    day  ...  species_id  hindfoot_length  weight\n",
              "sex                           ...                                     \n",
              "F        15690  15690  15690  ...       15690            14894   15303\n",
              "M        17348  17348  17348  ...       17348            16476   16879\n",
              "\n",
              "[2 rows x 8 columns]"
            ]
          },
          "metadata": {
            "tags": []
          },
          "execution_count": 50
        }
      ]
    },
    {
      "cell_type": "code",
      "metadata": {
        "id": "4XmkpQnauPhs",
        "colab_type": "code",
        "colab": {}
      },
      "source": [
        "grouped_data2 = survey_df.groupby(['site_id','sex'])\n",
        "grouped_data2.mean()"
      ],
      "execution_count": 0,
      "outputs": []
    },
    {
      "cell_type": "code",
      "metadata": {
        "id": "T0mR_nTguYV3",
        "colab_type": "code",
        "colab": {
          "base_uri": "https://localhost:8080/",
          "height": 824
        },
        "outputId": "60933107-4fda-496e-d11f-74c8ed5963f3"
      },
      "source": [
        "grouped_data3 = survey_df.groupby(['site_id'])\n",
        "grouped_data3['weight'].describe()"
      ],
      "execution_count": 53,
      "outputs": [
        {
          "output_type": "execute_result",
          "data": {
            "text/html": [
              "<div>\n",
              "<style scoped>\n",
              "    .dataframe tbody tr th:only-of-type {\n",
              "        vertical-align: middle;\n",
              "    }\n",
              "\n",
              "    .dataframe tbody tr th {\n",
              "        vertical-align: top;\n",
              "    }\n",
              "\n",
              "    .dataframe thead th {\n",
              "        text-align: right;\n",
              "    }\n",
              "</style>\n",
              "<table border=\"1\" class=\"dataframe\">\n",
              "  <thead>\n",
              "    <tr style=\"text-align: right;\">\n",
              "      <th></th>\n",
              "      <th>count</th>\n",
              "      <th>mean</th>\n",
              "      <th>std</th>\n",
              "      <th>min</th>\n",
              "      <th>25%</th>\n",
              "      <th>50%</th>\n",
              "      <th>75%</th>\n",
              "      <th>max</th>\n",
              "    </tr>\n",
              "    <tr>\n",
              "      <th>site_id</th>\n",
              "      <th></th>\n",
              "      <th></th>\n",
              "      <th></th>\n",
              "      <th></th>\n",
              "      <th></th>\n",
              "      <th></th>\n",
              "      <th></th>\n",
              "      <th></th>\n",
              "    </tr>\n",
              "  </thead>\n",
              "  <tbody>\n",
              "    <tr>\n",
              "      <th>1</th>\n",
              "      <td>1903.0</td>\n",
              "      <td>51.822911</td>\n",
              "      <td>38.176670</td>\n",
              "      <td>4.0</td>\n",
              "      <td>30.0</td>\n",
              "      <td>44.0</td>\n",
              "      <td>53.0</td>\n",
              "      <td>231.0</td>\n",
              "    </tr>\n",
              "    <tr>\n",
              "      <th>2</th>\n",
              "      <td>2074.0</td>\n",
              "      <td>52.251688</td>\n",
              "      <td>46.503602</td>\n",
              "      <td>5.0</td>\n",
              "      <td>24.0</td>\n",
              "      <td>41.0</td>\n",
              "      <td>50.0</td>\n",
              "      <td>278.0</td>\n",
              "    </tr>\n",
              "    <tr>\n",
              "      <th>3</th>\n",
              "      <td>1710.0</td>\n",
              "      <td>32.654386</td>\n",
              "      <td>35.641630</td>\n",
              "      <td>4.0</td>\n",
              "      <td>14.0</td>\n",
              "      <td>23.0</td>\n",
              "      <td>36.0</td>\n",
              "      <td>250.0</td>\n",
              "    </tr>\n",
              "    <tr>\n",
              "      <th>4</th>\n",
              "      <td>1866.0</td>\n",
              "      <td>47.928189</td>\n",
              "      <td>32.886598</td>\n",
              "      <td>4.0</td>\n",
              "      <td>30.0</td>\n",
              "      <td>43.0</td>\n",
              "      <td>50.0</td>\n",
              "      <td>200.0</td>\n",
              "    </tr>\n",
              "    <tr>\n",
              "      <th>5</th>\n",
              "      <td>1092.0</td>\n",
              "      <td>40.947802</td>\n",
              "      <td>34.086616</td>\n",
              "      <td>5.0</td>\n",
              "      <td>21.0</td>\n",
              "      <td>37.0</td>\n",
              "      <td>48.0</td>\n",
              "      <td>248.0</td>\n",
              "    </tr>\n",
              "    <tr>\n",
              "      <th>6</th>\n",
              "      <td>1463.0</td>\n",
              "      <td>36.738893</td>\n",
              "      <td>30.648310</td>\n",
              "      <td>5.0</td>\n",
              "      <td>18.0</td>\n",
              "      <td>30.0</td>\n",
              "      <td>45.0</td>\n",
              "      <td>243.0</td>\n",
              "    </tr>\n",
              "    <tr>\n",
              "      <th>7</th>\n",
              "      <td>638.0</td>\n",
              "      <td>20.663009</td>\n",
              "      <td>21.315325</td>\n",
              "      <td>4.0</td>\n",
              "      <td>11.0</td>\n",
              "      <td>17.0</td>\n",
              "      <td>23.0</td>\n",
              "      <td>235.0</td>\n",
              "    </tr>\n",
              "    <tr>\n",
              "      <th>8</th>\n",
              "      <td>1781.0</td>\n",
              "      <td>47.758001</td>\n",
              "      <td>33.192194</td>\n",
              "      <td>5.0</td>\n",
              "      <td>26.0</td>\n",
              "      <td>44.0</td>\n",
              "      <td>51.0</td>\n",
              "      <td>178.0</td>\n",
              "    </tr>\n",
              "    <tr>\n",
              "      <th>9</th>\n",
              "      <td>1811.0</td>\n",
              "      <td>51.432358</td>\n",
              "      <td>33.724726</td>\n",
              "      <td>6.0</td>\n",
              "      <td>36.0</td>\n",
              "      <td>45.0</td>\n",
              "      <td>50.0</td>\n",
              "      <td>275.0</td>\n",
              "    </tr>\n",
              "    <tr>\n",
              "      <th>10</th>\n",
              "      <td>279.0</td>\n",
              "      <td>18.541219</td>\n",
              "      <td>20.290806</td>\n",
              "      <td>4.0</td>\n",
              "      <td>10.0</td>\n",
              "      <td>12.0</td>\n",
              "      <td>21.0</td>\n",
              "      <td>237.0</td>\n",
              "    </tr>\n",
              "    <tr>\n",
              "      <th>11</th>\n",
              "      <td>1793.0</td>\n",
              "      <td>43.451757</td>\n",
              "      <td>28.975514</td>\n",
              "      <td>5.0</td>\n",
              "      <td>26.0</td>\n",
              "      <td>42.0</td>\n",
              "      <td>48.0</td>\n",
              "      <td>212.0</td>\n",
              "    </tr>\n",
              "    <tr>\n",
              "      <th>12</th>\n",
              "      <td>2219.0</td>\n",
              "      <td>49.496169</td>\n",
              "      <td>41.630035</td>\n",
              "      <td>6.0</td>\n",
              "      <td>26.0</td>\n",
              "      <td>42.0</td>\n",
              "      <td>50.0</td>\n",
              "      <td>280.0</td>\n",
              "    </tr>\n",
              "    <tr>\n",
              "      <th>13</th>\n",
              "      <td>1371.0</td>\n",
              "      <td>40.445660</td>\n",
              "      <td>34.042767</td>\n",
              "      <td>5.0</td>\n",
              "      <td>20.5</td>\n",
              "      <td>33.0</td>\n",
              "      <td>45.0</td>\n",
              "      <td>241.0</td>\n",
              "    </tr>\n",
              "    <tr>\n",
              "      <th>14</th>\n",
              "      <td>1728.0</td>\n",
              "      <td>46.277199</td>\n",
              "      <td>27.570389</td>\n",
              "      <td>5.0</td>\n",
              "      <td>36.0</td>\n",
              "      <td>44.0</td>\n",
              "      <td>49.0</td>\n",
              "      <td>222.0</td>\n",
              "    </tr>\n",
              "    <tr>\n",
              "      <th>15</th>\n",
              "      <td>869.0</td>\n",
              "      <td>27.042578</td>\n",
              "      <td>35.178142</td>\n",
              "      <td>4.0</td>\n",
              "      <td>11.0</td>\n",
              "      <td>18.0</td>\n",
              "      <td>26.0</td>\n",
              "      <td>259.0</td>\n",
              "    </tr>\n",
              "    <tr>\n",
              "      <th>16</th>\n",
              "      <td>480.0</td>\n",
              "      <td>24.585417</td>\n",
              "      <td>17.682334</td>\n",
              "      <td>4.0</td>\n",
              "      <td>12.0</td>\n",
              "      <td>20.0</td>\n",
              "      <td>34.0</td>\n",
              "      <td>158.0</td>\n",
              "    </tr>\n",
              "    <tr>\n",
              "      <th>17</th>\n",
              "      <td>1893.0</td>\n",
              "      <td>47.889593</td>\n",
              "      <td>35.802399</td>\n",
              "      <td>4.0</td>\n",
              "      <td>27.0</td>\n",
              "      <td>42.0</td>\n",
              "      <td>50.0</td>\n",
              "      <td>216.0</td>\n",
              "    </tr>\n",
              "    <tr>\n",
              "      <th>18</th>\n",
              "      <td>1351.0</td>\n",
              "      <td>40.005922</td>\n",
              "      <td>38.480856</td>\n",
              "      <td>5.0</td>\n",
              "      <td>17.5</td>\n",
              "      <td>30.0</td>\n",
              "      <td>44.0</td>\n",
              "      <td>256.0</td>\n",
              "    </tr>\n",
              "    <tr>\n",
              "      <th>19</th>\n",
              "      <td>1084.0</td>\n",
              "      <td>21.105166</td>\n",
              "      <td>13.269840</td>\n",
              "      <td>4.0</td>\n",
              "      <td>11.0</td>\n",
              "      <td>19.0</td>\n",
              "      <td>27.0</td>\n",
              "      <td>139.0</td>\n",
              "    </tr>\n",
              "    <tr>\n",
              "      <th>20</th>\n",
              "      <td>1222.0</td>\n",
              "      <td>48.665303</td>\n",
              "      <td>50.111539</td>\n",
              "      <td>5.0</td>\n",
              "      <td>17.0</td>\n",
              "      <td>31.0</td>\n",
              "      <td>47.0</td>\n",
              "      <td>223.0</td>\n",
              "    </tr>\n",
              "    <tr>\n",
              "      <th>21</th>\n",
              "      <td>1029.0</td>\n",
              "      <td>24.627794</td>\n",
              "      <td>21.199819</td>\n",
              "      <td>4.0</td>\n",
              "      <td>10.0</td>\n",
              "      <td>22.0</td>\n",
              "      <td>31.0</td>\n",
              "      <td>190.0</td>\n",
              "    </tr>\n",
              "    <tr>\n",
              "      <th>22</th>\n",
              "      <td>1298.0</td>\n",
              "      <td>54.146379</td>\n",
              "      <td>38.743967</td>\n",
              "      <td>5.0</td>\n",
              "      <td>29.0</td>\n",
              "      <td>42.0</td>\n",
              "      <td>54.0</td>\n",
              "      <td>212.0</td>\n",
              "    </tr>\n",
              "    <tr>\n",
              "      <th>23</th>\n",
              "      <td>369.0</td>\n",
              "      <td>19.634146</td>\n",
              "      <td>18.382678</td>\n",
              "      <td>4.0</td>\n",
              "      <td>10.0</td>\n",
              "      <td>14.0</td>\n",
              "      <td>23.0</td>\n",
              "      <td>199.0</td>\n",
              "    </tr>\n",
              "    <tr>\n",
              "      <th>24</th>\n",
              "      <td>960.0</td>\n",
              "      <td>43.679167</td>\n",
              "      <td>45.936588</td>\n",
              "      <td>4.0</td>\n",
              "      <td>19.0</td>\n",
              "      <td>27.5</td>\n",
              "      <td>45.0</td>\n",
              "      <td>251.0</td>\n",
              "    </tr>\n",
              "  </tbody>\n",
              "</table>\n",
              "</div>"
            ],
            "text/plain": [
              "          count       mean        std  min   25%   50%   75%    max\n",
              "site_id                                                            \n",
              "1        1903.0  51.822911  38.176670  4.0  30.0  44.0  53.0  231.0\n",
              "2        2074.0  52.251688  46.503602  5.0  24.0  41.0  50.0  278.0\n",
              "3        1710.0  32.654386  35.641630  4.0  14.0  23.0  36.0  250.0\n",
              "4        1866.0  47.928189  32.886598  4.0  30.0  43.0  50.0  200.0\n",
              "5        1092.0  40.947802  34.086616  5.0  21.0  37.0  48.0  248.0\n",
              "6        1463.0  36.738893  30.648310  5.0  18.0  30.0  45.0  243.0\n",
              "7         638.0  20.663009  21.315325  4.0  11.0  17.0  23.0  235.0\n",
              "8        1781.0  47.758001  33.192194  5.0  26.0  44.0  51.0  178.0\n",
              "9        1811.0  51.432358  33.724726  6.0  36.0  45.0  50.0  275.0\n",
              "10        279.0  18.541219  20.290806  4.0  10.0  12.0  21.0  237.0\n",
              "11       1793.0  43.451757  28.975514  5.0  26.0  42.0  48.0  212.0\n",
              "12       2219.0  49.496169  41.630035  6.0  26.0  42.0  50.0  280.0\n",
              "13       1371.0  40.445660  34.042767  5.0  20.5  33.0  45.0  241.0\n",
              "14       1728.0  46.277199  27.570389  5.0  36.0  44.0  49.0  222.0\n",
              "15        869.0  27.042578  35.178142  4.0  11.0  18.0  26.0  259.0\n",
              "16        480.0  24.585417  17.682334  4.0  12.0  20.0  34.0  158.0\n",
              "17       1893.0  47.889593  35.802399  4.0  27.0  42.0  50.0  216.0\n",
              "18       1351.0  40.005922  38.480856  5.0  17.5  30.0  44.0  256.0\n",
              "19       1084.0  21.105166  13.269840  4.0  11.0  19.0  27.0  139.0\n",
              "20       1222.0  48.665303  50.111539  5.0  17.0  31.0  47.0  223.0\n",
              "21       1029.0  24.627794  21.199819  4.0  10.0  22.0  31.0  190.0\n",
              "22       1298.0  54.146379  38.743967  5.0  29.0  42.0  54.0  212.0\n",
              "23        369.0  19.634146  18.382678  4.0  10.0  14.0  23.0  199.0\n",
              "24        960.0  43.679167  45.936588  4.0  19.0  27.5  45.0  251.0"
            ]
          },
          "metadata": {
            "tags": []
          },
          "execution_count": 53
        }
      ]
    },
    {
      "cell_type": "code",
      "metadata": {
        "id": "QaQDfEI7vsOQ",
        "colab_type": "code",
        "colab": {
          "base_uri": "https://localhost:8080/",
          "height": 867
        },
        "outputId": "35865537-dd70-4c8b-e244-c6cffb69d40e"
      },
      "source": [
        "species_count = survey_df.groupby('species_id')['record_id'].count()\n",
        "species_count"
      ],
      "execution_count": 60,
      "outputs": [
        {
          "output_type": "execute_result",
          "data": {
            "text/plain": [
              "species_id\n",
              "AB      303\n",
              "AH      437\n",
              "AS        2\n",
              "BA       46\n",
              "CB       50\n",
              "CM       13\n",
              "CQ       16\n",
              "CS        1\n",
              "CT        1\n",
              "CU        1\n",
              "CV        1\n",
              "DM    10596\n",
              "DO     3027\n",
              "DS     2504\n",
              "DX       40\n",
              "NL     1252\n",
              "OL     1006\n",
              "OT     2249\n",
              "OX       12\n",
              "PB     2891\n",
              "PC       39\n",
              "PE     1299\n",
              "PF     1597\n",
              "PG        8\n",
              "PH       32\n",
              "PI        9\n",
              "PL       36\n",
              "PM      899\n",
              "PP     3123\n",
              "PU        5\n",
              "PX        6\n",
              "RF       75\n",
              "RM     2609\n",
              "RO        8\n",
              "RX        2\n",
              "SA       75\n",
              "SC        1\n",
              "SF       43\n",
              "SH      147\n",
              "SO       43\n",
              "SS      248\n",
              "ST        1\n",
              "SU        5\n",
              "UL        4\n",
              "UP        8\n",
              "UR       10\n",
              "US        4\n",
              "ZL        2\n",
              "Name: record_id, dtype: int64"
            ]
          },
          "metadata": {
            "tags": []
          },
          "execution_count": 60
        }
      ]
    },
    {
      "cell_type": "code",
      "metadata": {
        "id": "f8OGT1sawZX-",
        "colab_type": "code",
        "colab": {
          "base_uri": "https://localhost:8080/",
          "height": 34
        },
        "outputId": "e33f676e-4e7d-4aaf-d6a8-f0998d40acc1"
      },
      "source": [
        "survey_df.groupby('species_id')['record_id'].count()['DO']"
      ],
      "execution_count": 58,
      "outputs": [
        {
          "output_type": "execute_result",
          "data": {
            "text/plain": [
              "3027"
            ]
          },
          "metadata": {
            "tags": []
          },
          "execution_count": 58
        }
      ]
    },
    {
      "cell_type": "code",
      "metadata": {
        "id": "2HIEHxn_ysgj",
        "colab_type": "code",
        "colab": {}
      },
      "source": [
        "survey_df['weight'] * 2"
      ],
      "execution_count": 0,
      "outputs": []
    },
    {
      "cell_type": "code",
      "metadata": {
        "id": "Rmxxfz7Zy0sl",
        "colab_type": "code",
        "colab": {
          "base_uri": "https://localhost:8080/",
          "height": 307
        },
        "outputId": "2dcb6f91-1a6f-4359-a057-1770a36c4efc"
      },
      "source": [
        "%matplotlib inline\n",
        "species_count.plot()"
      ],
      "execution_count": 65,
      "outputs": [
        {
          "output_type": "execute_result",
          "data": {
            "text/plain": [
              "<matplotlib.axes._subplots.AxesSubplot at 0x7f4ddfd37588>"
            ]
          },
          "metadata": {
            "tags": []
          },
          "execution_count": 65
        },
        {
          "output_type": "display_data",
          "data": {
            "image/png": "[encoded data removed]",
            "text/plain": [
              "<Figure size 432x288 with 1 Axes>"
            ]
          },
          "metadata": {
            "tags": []
          }
        }
      ]
    },
    {
      "cell_type": "code",
      "metadata": {
        "id": "QeSdRXBazTGa",
        "colab_type": "code",
        "colab": {
          "base_uri": "https://localhost:8080/",
          "height": 307
        },
        "outputId": "aee02ee4-1cfd-41a3-b55c-5198af64e344"
      },
      "source": [
        "species_count.plot(kind = \"bar\")"
      ],
      "execution_count": 66,
      "outputs": [
        {
          "output_type": "execute_result",
          "data": {
            "text/plain": [
              "<matplotlib.axes._subplots.AxesSubplot at 0x7f4ddfd76b00>"
            ]
          },
          "metadata": {
            "tags": []
          },
          "execution_count": 66
        },
        {
          "output_type": "display_data",
          "data": {
            "image/png": "[encoded data removed]",
            "text/plain": [
              "<Figure size 432x288 with 1 Axes>"
            ]
          },
          "metadata": {
            "tags": []
          }
        }
      ]
    },
    {
      "cell_type": "code",
      "metadata": {
        "id": "8YVlANlEzn1r",
        "colab_type": "code",
        "colab": {
          "base_uri": "https://localhost:8080/",
          "height": 459
        },
        "outputId": "a874af35-9f38-41cd-ced9-194aad1b52d3"
      },
      "source": [
        "total_count = survey_df.groupby('site_id')['record_id'].nunique()\n",
        "total_count"
      ],
      "execution_count": 68,
      "outputs": [
        {
          "output_type": "execute_result",
          "data": {
            "text/plain": [
              "site_id\n",
              "1     1995\n",
              "2     2194\n",
              "3     1828\n",
              "4     1969\n",
              "5     1194\n",
              "6     1582\n",
              "7      816\n",
              "8     1891\n",
              "9     1936\n",
              "10     469\n",
              "11    1918\n",
              "12    2365\n",
              "13    1538\n",
              "14    1885\n",
              "15    1069\n",
              "16     646\n",
              "17    2039\n",
              "18    1445\n",
              "19    1189\n",
              "20    1390\n",
              "21    1173\n",
              "22    1399\n",
              "23     571\n",
              "24    1048\n",
              "Name: record_id, dtype: int64"
            ]
          },
          "metadata": {
            "tags": []
          },
          "execution_count": 68
        }
      ]
    },
    {
      "cell_type": "code",
      "metadata": {
        "id": "WfbsxkmUzwVD",
        "colab_type": "code",
        "colab": {
          "base_uri": "https://localhost:8080/",
          "height": 303
        },
        "outputId": "c56925ed-7554-4732-bc7c-a89e8d5929f5"
      },
      "source": [
        "total_count.plot(kind = 'bar')"
      ],
      "execution_count": 69,
      "outputs": [
        {
          "output_type": "execute_result",
          "data": {
            "text/plain": [
              "<matplotlib.axes._subplots.AxesSubplot at 0x7f4ddfae5ac8>"
            ]
          },
          "metadata": {
            "tags": []
          },
          "execution_count": 69
        },
        {
          "output_type": "display_data",
          "data": {
            "image/png": "[encoded data removed]",
            "text/plain": [
              "<Figure size 432x288 with 1 Axes>"
            ]
          },
          "metadata": {
            "tags": []
          }
        }
      ]
    },
    {
      "cell_type": "code",
      "metadata": {
        "id": "emmQYEIKz38w",
        "colab_type": "code",
        "colab": {
          "base_uri": "https://localhost:8080/",
          "height": 1000
        },
        "outputId": "433519ee-1c70-484d-cbc0-860f58e4d82a"
      },
      "source": [
        "survey_df.groupby('species_id')['weight'].plot()"
      ],
      "execution_count": 80,
      "outputs": [
        {
          "output_type": "execute_result",
          "data": {
            "text/plain": [
              "species_id\n",
              "AB    AxesSubplot(0.125,0.125;0.775x0.755)\n",
              "AH    AxesSubplot(0.125,0.125;0.775x0.755)\n",
              "AS    AxesSubplot(0.125,0.125;0.775x0.755)\n",
              "BA    AxesSubplot(0.125,0.125;0.775x0.755)\n",
              "CB    AxesSubplot(0.125,0.125;0.775x0.755)\n",
              "CM    AxesSubplot(0.125,0.125;0.775x0.755)\n",
              "CQ    AxesSubplot(0.125,0.125;0.775x0.755)\n",
              "CS    AxesSubplot(0.125,0.125;0.775x0.755)\n",
              "CT    AxesSubplot(0.125,0.125;0.775x0.755)\n",
              "CU    AxesSubplot(0.125,0.125;0.775x0.755)\n",
              "CV    AxesSubplot(0.125,0.125;0.775x0.755)\n",
              "DM    AxesSubplot(0.125,0.125;0.775x0.755)\n",
              "DO    AxesSubplot(0.125,0.125;0.775x0.755)\n",
              "DS    AxesSubplot(0.125,0.125;0.775x0.755)\n",
              "DX    AxesSubplot(0.125,0.125;0.775x0.755)\n",
              "NL    AxesSubplot(0.125,0.125;0.775x0.755)\n",
              "OL    AxesSubplot(0.125,0.125;0.775x0.755)\n",
              "OT    AxesSubplot(0.125,0.125;0.775x0.755)\n",
              "OX    AxesSubplot(0.125,0.125;0.775x0.755)\n",
              "PB    AxesSubplot(0.125,0.125;0.775x0.755)\n",
              "PC    AxesSubplot(0.125,0.125;0.775x0.755)\n",
              "PE    AxesSubplot(0.125,0.125;0.775x0.755)\n",
              "PF    AxesSubplot(0.125,0.125;0.775x0.755)\n",
              "PG    AxesSubplot(0.125,0.125;0.775x0.755)\n",
              "PH    AxesSubplot(0.125,0.125;0.775x0.755)\n",
              "PI    AxesSubplot(0.125,0.125;0.775x0.755)\n",
              "PL    AxesSubplot(0.125,0.125;0.775x0.755)\n",
              "PM    AxesSubplot(0.125,0.125;0.775x0.755)\n",
              "PP    AxesSubplot(0.125,0.125;0.775x0.755)\n",
              "PU    AxesSubplot(0.125,0.125;0.775x0.755)\n",
              "PX    AxesSubplot(0.125,0.125;0.775x0.755)\n",
              "RF    AxesSubplot(0.125,0.125;0.775x0.755)\n",
              "RM    AxesSubplot(0.125,0.125;0.775x0.755)\n",
              "RO    AxesSubplot(0.125,0.125;0.775x0.755)\n",
              "RX    AxesSubplot(0.125,0.125;0.775x0.755)\n",
              "SA    AxesSubplot(0.125,0.125;0.775x0.755)\n",
              "SC    AxesSubplot(0.125,0.125;0.775x0.755)\n",
              "SF    AxesSubplot(0.125,0.125;0.775x0.755)\n",
              "SH    AxesSubplot(0.125,0.125;0.775x0.755)\n",
              "SO    AxesSubplot(0.125,0.125;0.775x0.755)\n",
              "SS    AxesSubplot(0.125,0.125;0.775x0.755)\n",
              "ST    AxesSubplot(0.125,0.125;0.775x0.755)\n",
              "SU    AxesSubplot(0.125,0.125;0.775x0.755)\n",
              "UL    AxesSubplot(0.125,0.125;0.775x0.755)\n",
              "UP    AxesSubplot(0.125,0.125;0.775x0.755)\n",
              "UR    AxesSubplot(0.125,0.125;0.775x0.755)\n",
              "US    AxesSubplot(0.125,0.125;0.775x0.755)\n",
              "ZL    AxesSubplot(0.125,0.125;0.775x0.755)\n",
              "Name: weight, dtype: object"
            ]
          },
          "metadata": {
            "tags": []
          },
          "execution_count": 80
        },
        {
          "output_type": "display_data",
          "data": {
            "image/png": "[encoded data removed]",
            "text/plain": [
              "<Figure size 432x288 with 1 Axes>"
            ]
          },
          "metadata": {
            "tags": []
          }
        }
      ]
    },
    {
      "cell_type": "code",
      "metadata": {
        "id": "BvefVQDw0WCH",
        "colab_type": "code",
        "colab": {}
      },
      "source": [
        ""
      ],
      "execution_count": 0,
      "outputs": []
    }
  ]
}